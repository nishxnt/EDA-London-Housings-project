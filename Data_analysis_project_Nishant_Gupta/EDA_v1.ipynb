{
 "cells": [
  {
   "cell_type": "markdown",
   "id": "55d9d4e5",
   "metadata": {},
   "source": [
    "# EDA Python Project on London Housing Dataset"
   ]
  },
  {
   "cell_type": "markdown",
   "id": "212d120e",
   "metadata": {},
   "source": [
    "## by Nishant Gupta"
   ]
  },
  {
   "cell_type": "markdown",
   "id": "e92e25c5",
   "metadata": {},
   "source": [
    "1) The timeline of this housing dataset is 1995 to 2020."
   ]
  },
  {
   "cell_type": "markdown",
   "id": "e6214512",
   "metadata": {},
   "source": [
    "2) The dataset is downloaded as a csv file from Kaggle."
   ]
  },
  {
   "cell_type": "markdown",
   "id": "7f72a493",
   "metadata": {},
   "source": [
    "3) This analysis is based on some questions:\n",
    "\n",
    "    a) How have different London boroughs' property markets—including average home prices and the quantity of sold homes—changed over time? What about in relation to England?\n",
    "    \n",
    "    b) What factors had the greatest impact?"
   ]
  },
  {
   "cell_type": "markdown",
   "id": "74bf9008",
   "metadata": {},
   "source": [
    "## Importing the relevant libraries "
   ]
  },
  {
   "cell_type": "code",
   "execution_count": 1,
   "id": "79025efc",
   "metadata": {},
   "outputs": [],
   "source": [
    "import numpy as np\n",
    "import pandas as pd\n",
    "import statsmodels.api as sm\n",
    "import matplotlib.pyplot as plt\n",
    "from sklearn.linear_model import LinearRegression\n",
    "import seaborn as sns\n",
    "sns.set()"
   ]
  },
  {
   "cell_type": "markdown",
   "id": "a8529733",
   "metadata": {},
   "source": [
    "## Data Preprocessing"
   ]
  },
  {
   "cell_type": "code",
   "execution_count": 2,
   "id": "0197df23",
   "metadata": {},
   "outputs": [],
   "source": [
    "df_m = pd.read_csv('C:\\\\Users\\\\Nishant Gupta\\\\Desktop\\\\Projects\\\\Data_analysis_project_Nishant_Gupta\\\\housing_in_london_monthly_variables.csv', parse_dates = ['date'])"
   ]
  },
  {
   "cell_type": "code",
   "execution_count": 3,
   "id": "18c67fec",
   "metadata": {},
   "outputs": [
    {
     "name": "stdout",
     "output_type": "stream",
     "text": [
      "There are 13549 rows and 7 columns.\n"
     ]
    }
   ],
   "source": [
    "print(f'There are {df_m.shape[0]} rows and {df_m.shape[1]} columns.')"
   ]
  },
  {
   "cell_type": "code",
   "execution_count": 4,
   "id": "e92065b0",
   "metadata": {},
   "outputs": [
    {
     "data": {
      "text/html": [
       "<div>\n",
       "<style scoped>\n",
       "    .dataframe tbody tr th:only-of-type {\n",
       "        vertical-align: middle;\n",
       "    }\n",
       "\n",
       "    .dataframe tbody tr th {\n",
       "        vertical-align: top;\n",
       "    }\n",
       "\n",
       "    .dataframe thead th {\n",
       "        text-align: right;\n",
       "    }\n",
       "</style>\n",
       "<table border=\"1\" class=\"dataframe\">\n",
       "  <thead>\n",
       "    <tr style=\"text-align: right;\">\n",
       "      <th></th>\n",
       "      <th>date</th>\n",
       "      <th>area</th>\n",
       "      <th>average_price</th>\n",
       "      <th>code</th>\n",
       "      <th>houses_sold</th>\n",
       "      <th>no_of_crimes</th>\n",
       "      <th>borough_flag</th>\n",
       "    </tr>\n",
       "  </thead>\n",
       "  <tbody>\n",
       "    <tr>\n",
       "      <th>0</th>\n",
       "      <td>1995-01-01</td>\n",
       "      <td>city of london</td>\n",
       "      <td>91449</td>\n",
       "      <td>E09000001</td>\n",
       "      <td>17.0</td>\n",
       "      <td>NaN</td>\n",
       "      <td>1</td>\n",
       "    </tr>\n",
       "    <tr>\n",
       "      <th>1</th>\n",
       "      <td>1995-02-01</td>\n",
       "      <td>city of london</td>\n",
       "      <td>82203</td>\n",
       "      <td>E09000001</td>\n",
       "      <td>7.0</td>\n",
       "      <td>NaN</td>\n",
       "      <td>1</td>\n",
       "    </tr>\n",
       "    <tr>\n",
       "      <th>2</th>\n",
       "      <td>1995-03-01</td>\n",
       "      <td>city of london</td>\n",
       "      <td>79121</td>\n",
       "      <td>E09000001</td>\n",
       "      <td>14.0</td>\n",
       "      <td>NaN</td>\n",
       "      <td>1</td>\n",
       "    </tr>\n",
       "    <tr>\n",
       "      <th>3</th>\n",
       "      <td>1995-04-01</td>\n",
       "      <td>city of london</td>\n",
       "      <td>77101</td>\n",
       "      <td>E09000001</td>\n",
       "      <td>7.0</td>\n",
       "      <td>NaN</td>\n",
       "      <td>1</td>\n",
       "    </tr>\n",
       "    <tr>\n",
       "      <th>4</th>\n",
       "      <td>1995-05-01</td>\n",
       "      <td>city of london</td>\n",
       "      <td>84409</td>\n",
       "      <td>E09000001</td>\n",
       "      <td>10.0</td>\n",
       "      <td>NaN</td>\n",
       "      <td>1</td>\n",
       "    </tr>\n",
       "  </tbody>\n",
       "</table>\n",
       "</div>"
      ],
      "text/plain": [
       "        date            area  average_price       code  houses_sold  \\\n",
       "0 1995-01-01  city of london          91449  E09000001         17.0   \n",
       "1 1995-02-01  city of london          82203  E09000001          7.0   \n",
       "2 1995-03-01  city of london          79121  E09000001         14.0   \n",
       "3 1995-04-01  city of london          77101  E09000001          7.0   \n",
       "4 1995-05-01  city of london          84409  E09000001         10.0   \n",
       "\n",
       "   no_of_crimes  borough_flag  \n",
       "0           NaN             1  \n",
       "1           NaN             1  \n",
       "2           NaN             1  \n",
       "3           NaN             1  \n",
       "4           NaN             1  "
      ]
     },
     "execution_count": 4,
     "metadata": {},
     "output_type": "execute_result"
    }
   ],
   "source": [
    "# exploring data\n",
    "df_m.head()"
   ]
  },
  {
   "cell_type": "code",
   "execution_count": 5,
   "id": "f38ed03e",
   "metadata": {},
   "outputs": [
    {
     "data": {
      "text/html": [
       "<div>\n",
       "<style scoped>\n",
       "    .dataframe tbody tr th:only-of-type {\n",
       "        vertical-align: middle;\n",
       "    }\n",
       "\n",
       "    .dataframe tbody tr th {\n",
       "        vertical-align: top;\n",
       "    }\n",
       "\n",
       "    .dataframe thead th {\n",
       "        text-align: right;\n",
       "    }\n",
       "</style>\n",
       "<table border=\"1\" class=\"dataframe\">\n",
       "  <thead>\n",
       "    <tr style=\"text-align: right;\">\n",
       "      <th></th>\n",
       "      <th>date</th>\n",
       "      <th>area</th>\n",
       "      <th>average_price</th>\n",
       "      <th>code</th>\n",
       "      <th>houses_sold</th>\n",
       "      <th>no_of_crimes</th>\n",
       "      <th>borough_flag</th>\n",
       "    </tr>\n",
       "  </thead>\n",
       "  <tbody>\n",
       "    <tr>\n",
       "      <th>13544</th>\n",
       "      <td>2019-09-01</td>\n",
       "      <td>england</td>\n",
       "      <td>249942</td>\n",
       "      <td>E92000001</td>\n",
       "      <td>64605.0</td>\n",
       "      <td>NaN</td>\n",
       "      <td>0</td>\n",
       "    </tr>\n",
       "    <tr>\n",
       "      <th>13545</th>\n",
       "      <td>2019-10-01</td>\n",
       "      <td>england</td>\n",
       "      <td>249376</td>\n",
       "      <td>E92000001</td>\n",
       "      <td>68677.0</td>\n",
       "      <td>NaN</td>\n",
       "      <td>0</td>\n",
       "    </tr>\n",
       "    <tr>\n",
       "      <th>13546</th>\n",
       "      <td>2019-11-01</td>\n",
       "      <td>england</td>\n",
       "      <td>248515</td>\n",
       "      <td>E92000001</td>\n",
       "      <td>67814.0</td>\n",
       "      <td>NaN</td>\n",
       "      <td>0</td>\n",
       "    </tr>\n",
       "    <tr>\n",
       "      <th>13547</th>\n",
       "      <td>2019-12-01</td>\n",
       "      <td>england</td>\n",
       "      <td>250410</td>\n",
       "      <td>E92000001</td>\n",
       "      <td>NaN</td>\n",
       "      <td>NaN</td>\n",
       "      <td>0</td>\n",
       "    </tr>\n",
       "    <tr>\n",
       "      <th>13548</th>\n",
       "      <td>2020-01-01</td>\n",
       "      <td>england</td>\n",
       "      <td>247355</td>\n",
       "      <td>E92000001</td>\n",
       "      <td>NaN</td>\n",
       "      <td>NaN</td>\n",
       "      <td>0</td>\n",
       "    </tr>\n",
       "  </tbody>\n",
       "</table>\n",
       "</div>"
      ],
      "text/plain": [
       "            date     area  average_price       code  houses_sold  \\\n",
       "13544 2019-09-01  england         249942  E92000001      64605.0   \n",
       "13545 2019-10-01  england         249376  E92000001      68677.0   \n",
       "13546 2019-11-01  england         248515  E92000001      67814.0   \n",
       "13547 2019-12-01  england         250410  E92000001          NaN   \n",
       "13548 2020-01-01  england         247355  E92000001          NaN   \n",
       "\n",
       "       no_of_crimes  borough_flag  \n",
       "13544           NaN             0  \n",
       "13545           NaN             0  \n",
       "13546           NaN             0  \n",
       "13547           NaN             0  \n",
       "13548           NaN             0  "
      ]
     },
     "execution_count": 5,
     "metadata": {},
     "output_type": "execute_result"
    }
   ],
   "source": [
    "df_m.tail()"
   ]
  },
  {
   "cell_type": "code",
   "execution_count": 6,
   "id": "36a18db2",
   "metadata": {},
   "outputs": [
    {
     "name": "stdout",
     "output_type": "stream",
     "text": [
      "<class 'pandas.core.frame.DataFrame'>\n",
      "RangeIndex: 13549 entries, 0 to 13548\n",
      "Data columns (total 7 columns):\n",
      " #   Column         Non-Null Count  Dtype         \n",
      "---  ------         --------------  -----         \n",
      " 0   date           13549 non-null  datetime64[ns]\n",
      " 1   area           13549 non-null  object        \n",
      " 2   average_price  13549 non-null  int64         \n",
      " 3   code           13549 non-null  object        \n",
      " 4   houses_sold    13455 non-null  float64       \n",
      " 5   no_of_crimes   7439 non-null   float64       \n",
      " 6   borough_flag   13549 non-null  int64         \n",
      "dtypes: datetime64[ns](1), float64(2), int64(2), object(2)\n",
      "memory usage: 741.1+ KB\n"
     ]
    }
   ],
   "source": [
    "df_m.info()"
   ]
  },
  {
   "cell_type": "code",
   "execution_count": 7,
   "id": "ea113d3b",
   "metadata": {},
   "outputs": [],
   "source": [
    "# dealing with missing values\n",
    "\n",
    "null_df_m = df_m.isnull().sum().sort_values(ascending = False)\n",
    "percent = (df_m.isnull().sum()/df_m.isnull().count()).sort_values(ascending = False) * 100\n",
    "\n",
    "null_df_m = pd.concat([null_df_m, percent], axis = 1, keys = ['Counts', '% of Missing'])\n",
    "\n"
   ]
  },
  {
   "cell_type": "code",
   "execution_count": 8,
   "id": "38c5bae6",
   "metadata": {},
   "outputs": [
    {
     "name": "stdout",
     "output_type": "stream",
     "text": [
      "Missing Values:-\n"
     ]
    },
    {
     "data": {
      "text/html": [
       "<div>\n",
       "<style scoped>\n",
       "    .dataframe tbody tr th:only-of-type {\n",
       "        vertical-align: middle;\n",
       "    }\n",
       "\n",
       "    .dataframe tbody tr th {\n",
       "        vertical-align: top;\n",
       "    }\n",
       "\n",
       "    .dataframe thead th {\n",
       "        text-align: right;\n",
       "    }\n",
       "</style>\n",
       "<table border=\"1\" class=\"dataframe\">\n",
       "  <thead>\n",
       "    <tr style=\"text-align: right;\">\n",
       "      <th></th>\n",
       "      <th>Counts</th>\n",
       "      <th>% of Missing</th>\n",
       "    </tr>\n",
       "  </thead>\n",
       "  <tbody>\n",
       "    <tr>\n",
       "      <th>no_of_crimes</th>\n",
       "      <td>6110</td>\n",
       "      <td>45.095579</td>\n",
       "    </tr>\n",
       "    <tr>\n",
       "      <th>houses_sold</th>\n",
       "      <td>94</td>\n",
       "      <td>0.693778</td>\n",
       "    </tr>\n",
       "    <tr>\n",
       "      <th>date</th>\n",
       "      <td>0</td>\n",
       "      <td>0.000000</td>\n",
       "    </tr>\n",
       "    <tr>\n",
       "      <th>area</th>\n",
       "      <td>0</td>\n",
       "      <td>0.000000</td>\n",
       "    </tr>\n",
       "    <tr>\n",
       "      <th>average_price</th>\n",
       "      <td>0</td>\n",
       "      <td>0.000000</td>\n",
       "    </tr>\n",
       "  </tbody>\n",
       "</table>\n",
       "</div>"
      ],
      "text/plain": [
       "               Counts  % of Missing\n",
       "no_of_crimes     6110     45.095579\n",
       "houses_sold        94      0.693778\n",
       "date                0      0.000000\n",
       "area                0      0.000000\n",
       "average_price       0      0.000000"
      ]
     },
     "execution_count": 8,
     "metadata": {},
     "output_type": "execute_result"
    }
   ],
   "source": [
    "print('Missing Values:-')\n",
    "null_df_m.head()"
   ]
  },
  {
   "cell_type": "markdown",
   "id": "e9b99473",
   "metadata": {},
   "source": [
    "I will be dropping the attribute 'no_of_crimes' because almost 50% of it's values are missing(NaN values)!  "
   ]
  },
  {
   "cell_type": "code",
   "execution_count": 9,
   "id": "2d23937e",
   "metadata": {},
   "outputs": [],
   "source": [
    "df_m.drop('no_of_crimes', axis = 1, inplace = True)"
   ]
  },
  {
   "cell_type": "code",
   "execution_count": 10,
   "id": "f582b2a5",
   "metadata": {},
   "outputs": [],
   "source": [
    "# Filling NaN values in 'houses_sold' attribute with the mean of that particular area\n",
    "\n",
    "df_m['houses_sold'].fillna(df_m.groupby('area')['houses_sold'].transform('mean'), inplace = True)"
   ]
  },
  {
   "cell_type": "code",
   "execution_count": 11,
   "id": "e7859b1d",
   "metadata": {},
   "outputs": [
    {
     "data": {
      "text/html": [
       "<div>\n",
       "<style scoped>\n",
       "    .dataframe tbody tr th:only-of-type {\n",
       "        vertical-align: middle;\n",
       "    }\n",
       "\n",
       "    .dataframe tbody tr th {\n",
       "        vertical-align: top;\n",
       "    }\n",
       "\n",
       "    .dataframe thead th {\n",
       "        text-align: right;\n",
       "    }\n",
       "</style>\n",
       "<table border=\"1\" class=\"dataframe\">\n",
       "  <thead>\n",
       "    <tr style=\"text-align: right;\">\n",
       "      <th></th>\n",
       "      <th>date</th>\n",
       "      <th>area</th>\n",
       "      <th>average_price</th>\n",
       "      <th>code</th>\n",
       "      <th>houses_sold</th>\n",
       "      <th>borough_flag</th>\n",
       "      <th>year</th>\n",
       "    </tr>\n",
       "  </thead>\n",
       "  <tbody>\n",
       "    <tr>\n",
       "      <th>0</th>\n",
       "      <td>1995-01-01</td>\n",
       "      <td>city of london</td>\n",
       "      <td>91449</td>\n",
       "      <td>E09000001</td>\n",
       "      <td>17.000000</td>\n",
       "      <td>1</td>\n",
       "      <td>1995</td>\n",
       "    </tr>\n",
       "    <tr>\n",
       "      <th>13548</th>\n",
       "      <td>2020-01-01</td>\n",
       "      <td>england</td>\n",
       "      <td>247355</td>\n",
       "      <td>E92000001</td>\n",
       "      <td>77182.732441</td>\n",
       "      <td>0</td>\n",
       "      <td>2020</td>\n",
       "    </tr>\n",
       "  </tbody>\n",
       "</table>\n",
       "</div>"
      ],
      "text/plain": [
       "            date            area  average_price       code   houses_sold  \\\n",
       "0     1995-01-01  city of london          91449  E09000001     17.000000   \n",
       "13548 2020-01-01         england         247355  E92000001  77182.732441   \n",
       "\n",
       "       borough_flag  year  \n",
       "0                 1  1995  \n",
       "13548             0  2020  "
      ]
     },
     "execution_count": 11,
     "metadata": {},
     "output_type": "execute_result"
    }
   ],
   "source": [
    "# extract corresponding year of each instance\n",
    "\n",
    "df_m['year'] = df_m['date'].dt.year\n",
    "df_m.iloc[[0,-1]]"
   ]
  },
  {
   "cell_type": "markdown",
   "id": "6d563e34",
   "metadata": {},
   "source": [
    "Since the dataset does not contain the complete data of year 2020. The samples from 2020 should be discarded"
   ]
  },
  {
   "cell_type": "code",
   "execution_count": 12,
   "id": "f4b07bd2",
   "metadata": {},
   "outputs": [
    {
     "data": {
      "text/plain": [
       "2019"
      ]
     },
     "execution_count": 12,
     "metadata": {},
     "output_type": "execute_result"
    }
   ],
   "source": [
    "df_m = df_m[df_m['year'] < 2020]\n",
    "df_m['year'].max()"
   ]
  },
  {
   "cell_type": "code",
   "execution_count": 13,
   "id": "534c16ce",
   "metadata": {},
   "outputs": [
    {
     "data": {
      "text/html": [
       "<div>\n",
       "<style scoped>\n",
       "    .dataframe tbody tr th:only-of-type {\n",
       "        vertical-align: middle;\n",
       "    }\n",
       "\n",
       "    .dataframe tbody tr th {\n",
       "        vertical-align: top;\n",
       "    }\n",
       "\n",
       "    .dataframe thead th {\n",
       "        text-align: right;\n",
       "    }\n",
       "</style>\n",
       "<table border=\"1\" class=\"dataframe\">\n",
       "  <thead>\n",
       "    <tr style=\"text-align: right;\">\n",
       "      <th></th>\n",
       "      <th>date</th>\n",
       "      <th>area</th>\n",
       "      <th>average_price</th>\n",
       "      <th>code</th>\n",
       "      <th>houses_sold</th>\n",
       "      <th>borough_flag</th>\n",
       "      <th>year</th>\n",
       "    </tr>\n",
       "  </thead>\n",
       "  <tbody>\n",
       "    <tr>\n",
       "      <th>count</th>\n",
       "      <td>13504</td>\n",
       "      <td>13504</td>\n",
       "      <td>1.350400e+04</td>\n",
       "      <td>13504</td>\n",
       "      <td>13504.000000</td>\n",
       "      <td>13504.000000</td>\n",
       "      <td>13504.000000</td>\n",
       "    </tr>\n",
       "    <tr>\n",
       "      <th>unique</th>\n",
       "      <td>NaN</td>\n",
       "      <td>45</td>\n",
       "      <td>NaN</td>\n",
       "      <td>45</td>\n",
       "      <td>NaN</td>\n",
       "      <td>NaN</td>\n",
       "      <td>NaN</td>\n",
       "    </tr>\n",
       "    <tr>\n",
       "      <th>top</th>\n",
       "      <td>NaN</td>\n",
       "      <td>south east</td>\n",
       "      <td>NaN</td>\n",
       "      <td>E09000030</td>\n",
       "      <td>NaN</td>\n",
       "      <td>NaN</td>\n",
       "      <td>NaN</td>\n",
       "    </tr>\n",
       "    <tr>\n",
       "      <th>freq</th>\n",
       "      <td>NaN</td>\n",
       "      <td>301</td>\n",
       "      <td>NaN</td>\n",
       "      <td>301</td>\n",
       "      <td>NaN</td>\n",
       "      <td>NaN</td>\n",
       "      <td>NaN</td>\n",
       "    </tr>\n",
       "    <tr>\n",
       "      <th>mean</th>\n",
       "      <td>2007-06-15 16:57:30.710900480</td>\n",
       "      <td>NaN</td>\n",
       "      <td>2.628538e+05</td>\n",
       "      <td>NaN</td>\n",
       "      <td>3893.949638</td>\n",
       "      <td>0.733338</td>\n",
       "      <td>2006.997038</td>\n",
       "    </tr>\n",
       "    <tr>\n",
       "      <th>min</th>\n",
       "      <td>1995-01-01 00:00:00</td>\n",
       "      <td>NaN</td>\n",
       "      <td>4.072200e+04</td>\n",
       "      <td>NaN</td>\n",
       "      <td>2.000000</td>\n",
       "      <td>0.000000</td>\n",
       "      <td>1995.000000</td>\n",
       "    </tr>\n",
       "    <tr>\n",
       "      <th>25%</th>\n",
       "      <td>2001-03-01 00:00:00</td>\n",
       "      <td>NaN</td>\n",
       "      <td>1.321885e+05</td>\n",
       "      <td>NaN</td>\n",
       "      <td>247.000000</td>\n",
       "      <td>0.000000</td>\n",
       "      <td>2001.000000</td>\n",
       "    </tr>\n",
       "    <tr>\n",
       "      <th>50%</th>\n",
       "      <td>2007-06-01 00:00:00</td>\n",
       "      <td>NaN</td>\n",
       "      <td>2.226530e+05</td>\n",
       "      <td>NaN</td>\n",
       "      <td>371.000000</td>\n",
       "      <td>1.000000</td>\n",
       "      <td>2007.000000</td>\n",
       "    </tr>\n",
       "    <tr>\n",
       "      <th>75%</th>\n",
       "      <td>2013-09-01 00:00:00</td>\n",
       "      <td>NaN</td>\n",
       "      <td>3.353345e+05</td>\n",
       "      <td>NaN</td>\n",
       "      <td>3149.250000</td>\n",
       "      <td>1.000000</td>\n",
       "      <td>2013.000000</td>\n",
       "    </tr>\n",
       "    <tr>\n",
       "      <th>max</th>\n",
       "      <td>2019-12-01 00:00:00</td>\n",
       "      <td>NaN</td>\n",
       "      <td>1.463378e+06</td>\n",
       "      <td>NaN</td>\n",
       "      <td>132163.000000</td>\n",
       "      <td>1.000000</td>\n",
       "      <td>2019.000000</td>\n",
       "    </tr>\n",
       "    <tr>\n",
       "      <th>std</th>\n",
       "      <td>NaN</td>\n",
       "      <td>NaN</td>\n",
       "      <td>1.871869e+05</td>\n",
       "      <td>NaN</td>\n",
       "      <td>12111.390614</td>\n",
       "      <td>0.442230</td>\n",
       "      <td>7.212375</td>\n",
       "    </tr>\n",
       "  </tbody>\n",
       "</table>\n",
       "</div>"
      ],
      "text/plain": [
       "                                 date        area  average_price       code  \\\n",
       "count                           13504       13504   1.350400e+04      13504   \n",
       "unique                            NaN          45            NaN         45   \n",
       "top                               NaN  south east            NaN  E09000030   \n",
       "freq                              NaN         301            NaN        301   \n",
       "mean    2007-06-15 16:57:30.710900480         NaN   2.628538e+05        NaN   \n",
       "min               1995-01-01 00:00:00         NaN   4.072200e+04        NaN   \n",
       "25%               2001-03-01 00:00:00         NaN   1.321885e+05        NaN   \n",
       "50%               2007-06-01 00:00:00         NaN   2.226530e+05        NaN   \n",
       "75%               2013-09-01 00:00:00         NaN   3.353345e+05        NaN   \n",
       "max               2019-12-01 00:00:00         NaN   1.463378e+06        NaN   \n",
       "std                               NaN         NaN   1.871869e+05        NaN   \n",
       "\n",
       "          houses_sold  borough_flag          year  \n",
       "count    13504.000000  13504.000000  13504.000000  \n",
       "unique            NaN           NaN           NaN  \n",
       "top               NaN           NaN           NaN  \n",
       "freq              NaN           NaN           NaN  \n",
       "mean      3893.949638      0.733338   2006.997038  \n",
       "min          2.000000      0.000000   1995.000000  \n",
       "25%        247.000000      0.000000   2001.000000  \n",
       "50%        371.000000      1.000000   2007.000000  \n",
       "75%       3149.250000      1.000000   2013.000000  \n",
       "max     132163.000000      1.000000   2019.000000  \n",
       "std      12111.390614      0.442230      7.212375  "
      ]
     },
     "execution_count": 13,
     "metadata": {},
     "output_type": "execute_result"
    }
   ],
   "source": [
    "# checking the descriptives\n",
    "df_m.describe(include = 'all', datetime_is_numeric=True)"
   ]
  },
  {
   "cell_type": "markdown",
   "id": "fc78e348",
   "metadata": {},
   "source": [
    "## Data Exploration "
   ]
  },
  {
   "cell_type": "code",
   "execution_count": 14,
   "id": "fab21f5e",
   "metadata": {},
   "outputs": [
    {
     "data": {
      "text/html": [
       "<div>\n",
       "<style scoped>\n",
       "    .dataframe tbody tr th:only-of-type {\n",
       "        vertical-align: middle;\n",
       "    }\n",
       "\n",
       "    .dataframe tbody tr th {\n",
       "        vertical-align: top;\n",
       "    }\n",
       "\n",
       "    .dataframe thead th {\n",
       "        text-align: right;\n",
       "    }\n",
       "</style>\n",
       "<table border=\"1\" class=\"dataframe\">\n",
       "  <thead>\n",
       "    <tr style=\"text-align: right;\">\n",
       "      <th></th>\n",
       "      <th>date</th>\n",
       "      <th>area</th>\n",
       "      <th>average_price</th>\n",
       "      <th>code</th>\n",
       "      <th>houses_sold</th>\n",
       "      <th>borough_flag</th>\n",
       "      <th>year</th>\n",
       "    </tr>\n",
       "  </thead>\n",
       "  <tbody>\n",
       "    <tr>\n",
       "      <th>0</th>\n",
       "      <td>1995-01-01</td>\n",
       "      <td>city of london</td>\n",
       "      <td>91449</td>\n",
       "      <td>E09000001</td>\n",
       "      <td>17.0</td>\n",
       "      <td>1</td>\n",
       "      <td>1995</td>\n",
       "    </tr>\n",
       "    <tr>\n",
       "      <th>1</th>\n",
       "      <td>1995-02-01</td>\n",
       "      <td>city of london</td>\n",
       "      <td>82203</td>\n",
       "      <td>E09000001</td>\n",
       "      <td>7.0</td>\n",
       "      <td>1</td>\n",
       "      <td>1995</td>\n",
       "    </tr>\n",
       "    <tr>\n",
       "      <th>2</th>\n",
       "      <td>1995-03-01</td>\n",
       "      <td>city of london</td>\n",
       "      <td>79121</td>\n",
       "      <td>E09000001</td>\n",
       "      <td>14.0</td>\n",
       "      <td>1</td>\n",
       "      <td>1995</td>\n",
       "    </tr>\n",
       "    <tr>\n",
       "      <th>3</th>\n",
       "      <td>1995-04-01</td>\n",
       "      <td>city of london</td>\n",
       "      <td>77101</td>\n",
       "      <td>E09000001</td>\n",
       "      <td>7.0</td>\n",
       "      <td>1</td>\n",
       "      <td>1995</td>\n",
       "    </tr>\n",
       "    <tr>\n",
       "      <th>4</th>\n",
       "      <td>1995-05-01</td>\n",
       "      <td>city of london</td>\n",
       "      <td>84409</td>\n",
       "      <td>E09000001</td>\n",
       "      <td>10.0</td>\n",
       "      <td>1</td>\n",
       "      <td>1995</td>\n",
       "    </tr>\n",
       "  </tbody>\n",
       "</table>\n",
       "</div>"
      ],
      "text/plain": [
       "        date            area  average_price       code  houses_sold  \\\n",
       "0 1995-01-01  city of london          91449  E09000001         17.0   \n",
       "1 1995-02-01  city of london          82203  E09000001          7.0   \n",
       "2 1995-03-01  city of london          79121  E09000001         14.0   \n",
       "3 1995-04-01  city of london          77101  E09000001          7.0   \n",
       "4 1995-05-01  city of london          84409  E09000001         10.0   \n",
       "\n",
       "   borough_flag  year  \n",
       "0             1  1995  \n",
       "1             1  1995  \n",
       "2             1  1995  \n",
       "3             1  1995  \n",
       "4             1  1995  "
      ]
     },
     "execution_count": 14,
     "metadata": {},
     "output_type": "execute_result"
    }
   ],
   "source": [
    "df_m.head()"
   ]
  },
  {
   "cell_type": "code",
   "execution_count": 15,
   "id": "859f6bb8",
   "metadata": {},
   "outputs": [
    {
     "name": "stdout",
     "output_type": "stream",
     "text": [
      "The number of boroughs in London is 33\n"
     ]
    }
   ],
   "source": [
    "# Finding out the number of boroughs in London\n",
    "lnd_boroughs = df_m[df_m['borough_flag'] == 1]['area'].unique()\n",
    "\n",
    "print(f'The number of boroughs in London is {len(lnd_boroughs)}')"
   ]
  },
  {
   "cell_type": "code",
   "execution_count": 16,
   "id": "9344f01c",
   "metadata": {},
   "outputs": [
    {
     "name": "stdout",
     "output_type": "stream",
     "text": [
      "The number of regions outside of London is 12\n"
     ]
    }
   ],
   "source": [
    "# Finding out how many and which regions are outside of London\n",
    "reg_out_lnd = df_m[df_m['borough_flag'] == 0]['area'].nunique()\n",
    "\n",
    "print(f'The number of regions outside of London is {reg_out_lnd}')"
   ]
  },
  {
   "cell_type": "code",
   "execution_count": 17,
   "id": "f1cdc5e4",
   "metadata": {},
   "outputs": [
    {
     "data": {
      "text/plain": [
       "array(['south east', 'inner london', 'outer london', 'north east',\n",
       "       'north west', 'yorks and the humber', 'east midlands',\n",
       "       'west midlands', 'east of england', 'london', 'south west',\n",
       "       'england'], dtype=object)"
      ]
     },
     "execution_count": 17,
     "metadata": {},
     "output_type": "execute_result"
    }
   ],
   "source": [
    "df_m[df_m['borough_flag'] == 0]['area'].unique()"
   ]
  },
  {
   "cell_type": "code",
   "execution_count": 18,
   "id": "fc462990",
   "metadata": {},
   "outputs": [],
   "source": [
    "eng_regions = ['south west', 'south east', 'east of england', 'west midlands', 'east midlands', 'yorks and the humber', 'north west', 'north east']"
   ]
  },
  {
   "cell_type": "markdown",
   "id": "02876bb2",
   "metadata": {},
   "source": [
    "#### Average Price"
   ]
  },
  {
   "cell_type": "code",
   "execution_count": 19,
   "id": "acf1c245",
   "metadata": {},
   "outputs": [
    {
     "name": "stderr",
     "output_type": "stream",
     "text": [
      "C:\\Users\\Nishant Gupta\\anaconda3\\lib\\site-packages\\seaborn\\distributions.py:2557: FutureWarning: `distplot` is a deprecated function and will be removed in a future version. Please adapt your code to use either `displot` (a figure-level function with similar flexibility) or `histplot` (an axes-level function for histograms).\n",
      "  warnings.warn(msg, FutureWarning)\n"
     ]
    },
    {
     "data": {
      "text/plain": [
       "<AxesSubplot:xlabel='average_price', ylabel='Density'>"
      ]
     },
     "execution_count": 19,
     "metadata": {},
     "output_type": "execute_result"
    },
    {
     "data": {
      "image/png": "[encoded data removed]",
      "text/plain": [
       "<Figure size 432x288 with 1 Axes>"
      ]
     },
     "metadata": {},
     "output_type": "display_data"
    }
   ],
   "source": [
    "sns.distplot(df_m['average_price'])"
   ]
  },
  {
   "cell_type": "code",
   "execution_count": 20,
   "id": "88ccc4ec",
   "metadata": {},
   "outputs": [
    {
     "data": {
      "text/html": [
       "<div>\n",
       "<style scoped>\n",
       "    .dataframe tbody tr th:only-of-type {\n",
       "        vertical-align: middle;\n",
       "    }\n",
       "\n",
       "    .dataframe tbody tr th {\n",
       "        vertical-align: top;\n",
       "    }\n",
       "\n",
       "    .dataframe thead th {\n",
       "        text-align: right;\n",
       "    }\n",
       "</style>\n",
       "<table border=\"1\" class=\"dataframe\">\n",
       "  <thead>\n",
       "    <tr style=\"text-align: right;\">\n",
       "      <th></th>\n",
       "      <th>date</th>\n",
       "      <th>area</th>\n",
       "      <th>average_price</th>\n",
       "      <th>code</th>\n",
       "      <th>houses_sold</th>\n",
       "      <th>borough_flag</th>\n",
       "      <th>year</th>\n",
       "    </tr>\n",
       "  </thead>\n",
       "  <tbody>\n",
       "    <tr>\n",
       "      <th>count</th>\n",
       "      <td>13368</td>\n",
       "      <td>13368</td>\n",
       "      <td>13368.000000</td>\n",
       "      <td>13368</td>\n",
       "      <td>13368.000000</td>\n",
       "      <td>13368.000000</td>\n",
       "      <td>13368.000000</td>\n",
       "    </tr>\n",
       "    <tr>\n",
       "      <th>unique</th>\n",
       "      <td>NaN</td>\n",
       "      <td>45</td>\n",
       "      <td>NaN</td>\n",
       "      <td>45</td>\n",
       "      <td>NaN</td>\n",
       "      <td>NaN</td>\n",
       "      <td>NaN</td>\n",
       "    </tr>\n",
       "    <tr>\n",
       "      <th>top</th>\n",
       "      <td>NaN</td>\n",
       "      <td>south east</td>\n",
       "      <td>NaN</td>\n",
       "      <td>E09000030</td>\n",
       "      <td>NaN</td>\n",
       "      <td>NaN</td>\n",
       "      <td>NaN</td>\n",
       "    </tr>\n",
       "    <tr>\n",
       "      <th>freq</th>\n",
       "      <td>NaN</td>\n",
       "      <td>301</td>\n",
       "      <td>NaN</td>\n",
       "      <td>301</td>\n",
       "      <td>NaN</td>\n",
       "      <td>NaN</td>\n",
       "      <td>NaN</td>\n",
       "    </tr>\n",
       "    <tr>\n",
       "      <th>mean</th>\n",
       "      <td>2007-05-13 05:36:31.023339264</td>\n",
       "      <td>NaN</td>\n",
       "      <td>253508.351885</td>\n",
       "      <td>NaN</td>\n",
       "      <td>3931.726371</td>\n",
       "      <td>0.730625</td>\n",
       "      <td>2006.905521</td>\n",
       "    </tr>\n",
       "    <tr>\n",
       "      <th>min</th>\n",
       "      <td>1995-01-01 00:00:00</td>\n",
       "      <td>NaN</td>\n",
       "      <td>40722.000000</td>\n",
       "      <td>NaN</td>\n",
       "      <td>2.000000</td>\n",
       "      <td>0.000000</td>\n",
       "      <td>1995.000000</td>\n",
       "    </tr>\n",
       "    <tr>\n",
       "      <th>25%</th>\n",
       "      <td>2001-03-01 00:00:00</td>\n",
       "      <td>NaN</td>\n",
       "      <td>131588.500000</td>\n",
       "      <td>NaN</td>\n",
       "      <td>249.000000</td>\n",
       "      <td>0.000000</td>\n",
       "      <td>2001.000000</td>\n",
       "    </tr>\n",
       "    <tr>\n",
       "      <th>50%</th>\n",
       "      <td>2007-05-01 00:00:00</td>\n",
       "      <td>NaN</td>\n",
       "      <td>221090.000000</td>\n",
       "      <td>NaN</td>\n",
       "      <td>373.000000</td>\n",
       "      <td>1.000000</td>\n",
       "      <td>2007.000000</td>\n",
       "    </tr>\n",
       "    <tr>\n",
       "      <th>75%</th>\n",
       "      <td>2013-08-01 00:00:00</td>\n",
       "      <td>NaN</td>\n",
       "      <td>328892.500000</td>\n",
       "      <td>NaN</td>\n",
       "      <td>3265.250000</td>\n",
       "      <td>1.000000</td>\n",
       "      <td>2013.000000</td>\n",
       "    </tr>\n",
       "    <tr>\n",
       "      <th>max</th>\n",
       "      <td>2019-12-01 00:00:00</td>\n",
       "      <td>NaN</td>\n",
       "      <td>966625.000000</td>\n",
       "      <td>NaN</td>\n",
       "      <td>132163.000000</td>\n",
       "      <td>1.000000</td>\n",
       "      <td>2019.000000</td>\n",
       "    </tr>\n",
       "    <tr>\n",
       "      <th>std</th>\n",
       "      <td>NaN</td>\n",
       "      <td>NaN</td>\n",
       "      <td>162833.159189</td>\n",
       "      <td>NaN</td>\n",
       "      <td>12167.023010</td>\n",
       "      <td>0.443652</td>\n",
       "      <td>7.188355</td>\n",
       "    </tr>\n",
       "  </tbody>\n",
       "</table>\n",
       "</div>"
      ],
      "text/plain": [
       "                                 date        area  average_price       code  \\\n",
       "count                           13368       13368   13368.000000      13368   \n",
       "unique                            NaN          45            NaN         45   \n",
       "top                               NaN  south east            NaN  E09000030   \n",
       "freq                              NaN         301            NaN        301   \n",
       "mean    2007-05-13 05:36:31.023339264         NaN  253508.351885        NaN   \n",
       "min               1995-01-01 00:00:00         NaN   40722.000000        NaN   \n",
       "25%               2001-03-01 00:00:00         NaN  131588.500000        NaN   \n",
       "50%               2007-05-01 00:00:00         NaN  221090.000000        NaN   \n",
       "75%               2013-08-01 00:00:00         NaN  328892.500000        NaN   \n",
       "max               2019-12-01 00:00:00         NaN  966625.000000        NaN   \n",
       "std                               NaN         NaN  162833.159189        NaN   \n",
       "\n",
       "          houses_sold  borough_flag          year  \n",
       "count    13368.000000  13368.000000  13368.000000  \n",
       "unique            NaN           NaN           NaN  \n",
       "top               NaN           NaN           NaN  \n",
       "freq              NaN           NaN           NaN  \n",
       "mean      3931.726371      0.730625   2006.905521  \n",
       "min          2.000000      0.000000   1995.000000  \n",
       "25%        249.000000      0.000000   2001.000000  \n",
       "50%        373.000000      1.000000   2007.000000  \n",
       "75%       3265.250000      1.000000   2013.000000  \n",
       "max     132163.000000      1.000000   2019.000000  \n",
       "std      12167.023010      0.443652      7.188355  "
      ]
     },
     "execution_count": 20,
     "metadata": {},
     "output_type": "execute_result"
    }
   ],
   "source": [
    "# Getting rid of the outliers\n",
    "q = df_m['average_price'].quantile(0.99)\n",
    "\n",
    "df_m_1 = df_m[df_m['average_price'] < q]\n",
    "\n",
    "df_m_1.describe(include='all', datetime_is_numeric=True)"
   ]
  },
  {
   "cell_type": "code",
   "execution_count": 21,
   "id": "4b1548e5",
   "metadata": {},
   "outputs": [
    {
     "name": "stderr",
     "output_type": "stream",
     "text": [
      "C:\\Users\\Nishant Gupta\\anaconda3\\lib\\site-packages\\seaborn\\distributions.py:2557: FutureWarning: `distplot` is a deprecated function and will be removed in a future version. Please adapt your code to use either `displot` (a figure-level function with similar flexibility) or `histplot` (an axes-level function for histograms).\n",
      "  warnings.warn(msg, FutureWarning)\n"
     ]
    },
    {
     "data": {
      "text/plain": [
       "<AxesSubplot:xlabel='average_price', ylabel='Density'>"
      ]
     },
     "execution_count": 21,
     "metadata": {},
     "output_type": "execute_result"
    },
    {
     "data": {
      "image/png": "[encoded data removed]",
      "text/plain": [
       "<Figure size 432x288 with 1 Axes>"
      ]
     },
     "metadata": {},
     "output_type": "display_data"
    }
   ],
   "source": [
    "sns.distplot(df_m_1['average_price'])"
   ]
  },
  {
   "cell_type": "markdown",
   "id": "e27ec931",
   "metadata": {},
   "source": [
    "We split our datasets between boroughs in London and remaining regions of England"
   ]
  },
  {
   "cell_type": "code",
   "execution_count": 22,
   "id": "209cd43e",
   "metadata": {},
   "outputs": [],
   "source": [
    "lnd = df_m_1[df_m_1['area'].isin(lnd_boroughs)]\n",
    "eng = df_m_1[df_m_1['area'].isin(eng_regions)]"
   ]
  },
  {
   "cell_type": "code",
   "execution_count": 23,
   "id": "ef515a54",
   "metadata": {},
   "outputs": [],
   "source": [
    "# Average Price differentiation\n",
    "\n",
    "lnd_pr = lnd.groupby('date')['average_price'].mean()\n",
    "eng_pr = eng.groupby('date')['average_price'].mean()"
   ]
  },
  {
   "cell_type": "code",
   "execution_count": 24,
   "id": "96fa0737",
   "metadata": {},
   "outputs": [
    {
     "data": {
      "image/png": "[encoded data removed]",
      "text/plain": [
       "<Figure size 648x360 with 1 Axes>"
      ]
     },
     "metadata": {},
     "output_type": "display_data"
    }
   ],
   "source": [
    "# Plotting Average Price Diff\n",
    "\n",
    "plt.figure(figsize = (9, 5))\n",
    "\n",
    "font_size = 16\n",
    "\n",
    "lnd_pr.plot(y = 'average_price', color = 'blue', lw = 2, label = 'London')\n",
    "eng_pr.plot(y = 'average_price', color = 'red', lw = 2, label = 'England')\n",
    "\n",
    "plt.title('Evolution of Average Price of Housings', size = font_size)\n",
    "plt.ylabel('Average Price', size = font_size)\n",
    "plt.xlabel('Date', size = font_size)\n",
    "plt.xticks(size = font_size - 3)\n",
    "plt.yticks(size = font_size - 3)\n",
    "plt.legend(fontsize = font_size - 3);"
   ]
  },
  {
   "cell_type": "markdown",
   "id": "14031f2d",
   "metadata": {},
   "source": [
    "1) The plot depicts that London consistently had higher average price for housings and also followed by a much bigger upward trend of average price.\n",
    "\n",
    "2) There seems to be a decline near the year 2009 in both areas. This could the Great Recession (2007-2009)."
   ]
  },
  {
   "cell_type": "code",
   "execution_count": 25,
   "id": "501d255c",
   "metadata": {},
   "outputs": [
    {
     "data": {
      "text/html": [
       "<div>\n",
       "<style scoped>\n",
       "    .dataframe tbody tr th:only-of-type {\n",
       "        vertical-align: middle;\n",
       "    }\n",
       "\n",
       "    .dataframe tbody tr th {\n",
       "        vertical-align: top;\n",
       "    }\n",
       "\n",
       "    .dataframe thead th {\n",
       "        text-align: right;\n",
       "    }\n",
       "</style>\n",
       "<table border=\"1\" class=\"dataframe\">\n",
       "  <thead>\n",
       "    <tr style=\"text-align: right;\">\n",
       "      <th></th>\n",
       "      <th>average_price</th>\n",
       "    </tr>\n",
       "    <tr>\n",
       "      <th>area</th>\n",
       "      <th></th>\n",
       "    </tr>\n",
       "  </thead>\n",
       "  <tbody>\n",
       "    <tr>\n",
       "      <th>kensington and chelsea</th>\n",
       "      <td>509621.671498</td>\n",
       "    </tr>\n",
       "    <tr>\n",
       "      <th>camden</th>\n",
       "      <td>466358.253333</td>\n",
       "    </tr>\n",
       "    <tr>\n",
       "      <th>westminster</th>\n",
       "      <td>461853.042802</td>\n",
       "    </tr>\n",
       "    <tr>\n",
       "      <th>hammersmith and fulham</th>\n",
       "      <td>442773.376667</td>\n",
       "    </tr>\n",
       "    <tr>\n",
       "      <th>city of london</th>\n",
       "      <td>422771.363333</td>\n",
       "    </tr>\n",
       "    <tr>\n",
       "      <th>richmond upon thames</th>\n",
       "      <td>381640.966667</td>\n",
       "    </tr>\n",
       "    <tr>\n",
       "      <th>islington</th>\n",
       "      <td>364160.283333</td>\n",
       "    </tr>\n",
       "    <tr>\n",
       "      <th>wandsworth</th>\n",
       "      <td>341411.026667</td>\n",
       "    </tr>\n",
       "    <tr>\n",
       "      <th>barnet</th>\n",
       "      <td>304272.120000</td>\n",
       "    </tr>\n",
       "    <tr>\n",
       "      <th>haringey</th>\n",
       "      <td>292017.106667</td>\n",
       "    </tr>\n",
       "  </tbody>\n",
       "</table>\n",
       "</div>"
      ],
      "text/plain": [
       "                        average_price\n",
       "area                                 \n",
       "kensington and chelsea  509621.671498\n",
       "camden                  466358.253333\n",
       "westminster             461853.042802\n",
       "hammersmith and fulham  442773.376667\n",
       "city of london          422771.363333\n",
       "richmond upon thames    381640.966667\n",
       "islington               364160.283333\n",
       "wandsworth              341411.026667\n",
       "barnet                  304272.120000\n",
       "haringey                292017.106667"
      ]
     },
     "execution_count": 25,
     "metadata": {},
     "output_type": "execute_result"
    }
   ],
   "source": [
    "# Average price of each area\n",
    "# London\n",
    "\n",
    "lnd_b_prices = lnd.groupby('area')['average_price'].mean()\n",
    "lnd_top10_pr = lnd_b_prices.sort_values(ascending = False).to_frame()\n",
    "\n",
    "lnd_top10_pr.head(10)"
   ]
  },
  {
   "cell_type": "code",
   "execution_count": 26,
   "id": "58ef0637",
   "metadata": {},
   "outputs": [
    {
     "data": {
      "image/png": "[encoded data removed]",
      "text/plain": [
       "<Figure size 648x360 with 1 Axes>"
      ]
     },
     "metadata": {},
     "output_type": "display_data"
    }
   ],
   "source": [
    "lnd_top10_pr.head(10).sort_values(by = 'average_price', ascending = True).plot(\n",
    "    kind = 'barh', figsize = (9,5), color = '#70baff', legend = False)\n",
    "\n",
    "plt.title('Top 10 Average Price of London Boroughs', size = 16, y = 1.05)\n",
    "plt.ylabel('London Borough', size = 16)\n",
    "plt.xlabel('Average Price', size = 16)\n",
    "plt.yticks(size = 16 - 3)\n",
    "plt.xticks([0, 200_000, 400_000, 600_000], size = 16 - 3);"
   ]
  },
  {
   "cell_type": "code",
   "execution_count": 32,
   "id": "f7e6f0e2",
   "metadata": {},
   "outputs": [
    {
     "data": {
      "text/html": [
       "<div>\n",
       "<style scoped>\n",
       "    .dataframe tbody tr th:only-of-type {\n",
       "        vertical-align: middle;\n",
       "    }\n",
       "\n",
       "    .dataframe tbody tr th {\n",
       "        vertical-align: top;\n",
       "    }\n",
       "\n",
       "    .dataframe thead th {\n",
       "        text-align: right;\n",
       "    }\n",
       "</style>\n",
       "<table border=\"1\" class=\"dataframe\">\n",
       "  <thead>\n",
       "    <tr style=\"text-align: right;\">\n",
       "      <th></th>\n",
       "      <th>average_price</th>\n",
       "    </tr>\n",
       "    <tr>\n",
       "      <th>area</th>\n",
       "      <th></th>\n",
       "    </tr>\n",
       "  </thead>\n",
       "  <tbody>\n",
       "    <tr>\n",
       "      <th>south east</th>\n",
       "      <td>195653.013289</td>\n",
       "    </tr>\n",
       "    <tr>\n",
       "      <th>east of england</th>\n",
       "      <td>170796.173333</td>\n",
       "    </tr>\n",
       "    <tr>\n",
       "      <th>south west</th>\n",
       "      <td>163050.030000</td>\n",
       "    </tr>\n",
       "  </tbody>\n",
       "</table>\n",
       "</div>"
      ],
      "text/plain": [
       "                 average_price\n",
       "area                          \n",
       "south east       195653.013289\n",
       "east of england  170796.173333\n",
       "south west       163050.030000"
      ]
     },
     "execution_count": 32,
     "metadata": {},
     "output_type": "execute_result"
    }
   ],
   "source": [
    "# England\n",
    "\n",
    "eng_prices = eng.groupby('area')['average_price'].mean()\n",
    "eng_top3_pr = eng_prices.sort_values(ascending = False).to_frame()\n",
    "\n",
    "eng_top3_pr.head(3)"
   ]
  },
  {
   "cell_type": "code",
   "execution_count": 34,
   "id": "e51d8a6a",
   "metadata": {},
   "outputs": [
    {
     "data": {
      "image/png": "[encoded data removed]",
      "text/plain": [
       "<Figure size 648x360 with 1 Axes>"
      ]
     },
     "metadata": {},
     "output_type": "display_data"
    }
   ],
   "source": [
    "eng_top3_pr.head(3).sort_values(by = 'average_price', ascending = True).plot( \n",
    "    kind = 'barh', figsize = (9, 5), color = '#C41E3A', legend = False)\n",
    "\n",
    "plt.title('Top 3 Average Price of other Regions of England', size = 16, y = 1.05)\n",
    "plt.ylabel('England Regions', size = 16)\n",
    "plt.xlabel('Average Price', size = 16)\n",
    "plt.yticks(size = 16 - 3)\n",
    "plt.xticks([0, 200_000, 400_000, 600_000], size = 16 - 3);"
   ]
  },
  {
   "cell_type": "markdown",
   "id": "d3115d94",
   "metadata": {},
   "source": [
    "By both the graphs, we depict that the borough with lowest average price in London is comparable to the most expensive regions in England."
   ]
  },
  {
   "cell_type": "markdown",
   "id": "61f335b4",
   "metadata": {},
   "source": [
    "#### House Sold"
   ]
  },
  {
   "cell_type": "code",
   "execution_count": 49,
   "id": "792fcb64",
   "metadata": {},
   "outputs": [
    {
     "name": "stderr",
     "output_type": "stream",
     "text": [
      "C:\\Users\\Nishant Gupta\\anaconda3\\lib\\site-packages\\seaborn\\distributions.py:2557: FutureWarning: `distplot` is a deprecated function and will be removed in a future version. Please adapt your code to use either `displot` (a figure-level function with similar flexibility) or `histplot` (an axes-level function for histograms).\n",
      "  warnings.warn(msg, FutureWarning)\n"
     ]
    },
    {
     "data": {
      "text/plain": [
       "<AxesSubplot:xlabel='houses_sold', ylabel='Density'>"
      ]
     },
     "execution_count": 49,
     "metadata": {},
     "output_type": "execute_result"
    },
    {
     "data": {
      "image/png": "[encoded data removed]",
      "text/plain": [
       "<Figure size 432x288 with 1 Axes>"
      ]
     },
     "metadata": {},
     "output_type": "display_data"
    }
   ],
   "source": [
    "sns.distplot(df_m_1['houses_sold'])"
   ]
  },
  {
   "cell_type": "code",
   "execution_count": 52,
   "id": "cf073540",
   "metadata": {},
   "outputs": [],
   "source": [
    "df_m_2 = df_m_1[df_m_1['houses_sold'] < 18000]"
   ]
  },
  {
   "cell_type": "code",
   "execution_count": 53,
   "id": "29726608",
   "metadata": {},
   "outputs": [
    {
     "name": "stderr",
     "output_type": "stream",
     "text": [
      "C:\\Users\\Nishant Gupta\\anaconda3\\lib\\site-packages\\seaborn\\distributions.py:2557: FutureWarning: `distplot` is a deprecated function and will be removed in a future version. Please adapt your code to use either `displot` (a figure-level function with similar flexibility) or `histplot` (an axes-level function for histograms).\n",
      "  warnings.warn(msg, FutureWarning)\n"
     ]
    },
    {
     "data": {
      "text/plain": [
       "<AxesSubplot:xlabel='houses_sold', ylabel='Density'>"
      ]
     },
     "execution_count": 53,
     "metadata": {},
     "output_type": "execute_result"
    },
    {
     "data": {
      "image/png": "[encoded data removed]",
      "text/plain": [
       "<Figure size 432x288 with 1 Axes>"
      ]
     },
     "metadata": {},
     "output_type": "display_data"
    }
   ],
   "source": [
    "sns.distplot(df_m_2['houses_sold'])"
   ]
  },
  {
   "cell_type": "code",
   "execution_count": 54,
   "id": "82db04d9",
   "metadata": {},
   "outputs": [
    {
     "data": {
      "text/plain": [
       "([<matplotlib.axis.YTick at 0x1e5f5093640>,\n",
       "  <matplotlib.axis.YTick at 0x1e5f5093220>,\n",
       "  <matplotlib.axis.YTick at 0x1e5f508b0a0>,\n",
       "  <matplotlib.axis.YTick at 0x1e5f504d580>],\n",
       " [Text(0, 0, ''), Text(0, 0, ''), Text(0, 0, ''), Text(0, 0, '')])"
      ]
     },
     "execution_count": 54,
     "metadata": {},
     "output_type": "execute_result"
    },
    {
     "data": {
      "image/png": "[encoded data removed]",
      "text/plain": [
       "<Figure size 648x360 with 1 Axes>"
      ]
     },
     "metadata": {},
     "output_type": "display_data"
    }
   ],
   "source": [
    "# Plotting houses sold in London\n",
    "\n",
    "lnd_houses = lnd.groupby('date')['houses_sold'].sum()\n",
    "lnd_houses.plot(figsize = (9, 5), lw = 2, y = 'houses_sold', color = 'orange')\n",
    "\n",
    "plt.title('Houses sold in London', size = 16)\n",
    "plt.xlabel('Date', size = 16)\n",
    "plt.ylabel('Houses Sold', size = 16)\n",
    "plt.xticks(size = 16 - 3)\n",
    "plt.yticks([4000, 8000, 12000, 16000], size = 16 - 3)"
   ]
  },
  {
   "cell_type": "markdown",
   "id": "f944a90d",
   "metadata": {},
   "source": [
    "1) There was slow and steady growth of houses sold in London until the 'Great Recession' of 2009, where there was significant decrease in the number of houses sold.\n",
    "\n",
    "2) There seems to be a sudden increase in number of houses sold in year 2015-2016. Google indicates that people started to buy more property before the london government imposed an increased taxation on buying second home.\n",
    "\n",
    "3) Overall, there is an constant decline in houses sold in London after the recession. Obviously, new tax bill in 2016 being an exception."
   ]
  },
  {
   "cell_type": "code",
   "execution_count": 55,
   "id": "28a0ab14",
   "metadata": {},
   "outputs": [
    {
     "data": {
      "text/html": [
       "<div>\n",
       "<style scoped>\n",
       "    .dataframe tbody tr th:only-of-type {\n",
       "        vertical-align: middle;\n",
       "    }\n",
       "\n",
       "    .dataframe tbody tr th {\n",
       "        vertical-align: top;\n",
       "    }\n",
       "\n",
       "    .dataframe thead th {\n",
       "        text-align: right;\n",
       "    }\n",
       "</style>\n",
       "<table border=\"1\" class=\"dataframe\">\n",
       "  <thead>\n",
       "    <tr style=\"text-align: right;\">\n",
       "      <th></th>\n",
       "      <th>houses_sold</th>\n",
       "    </tr>\n",
       "    <tr>\n",
       "      <th>area</th>\n",
       "      <th></th>\n",
       "    </tr>\n",
       "  </thead>\n",
       "  <tbody>\n",
       "    <tr>\n",
       "      <th>wandsworth</th>\n",
       "      <td>164419.063545</td>\n",
       "    </tr>\n",
       "    <tr>\n",
       "      <th>bromley</th>\n",
       "      <td>149012.709030</td>\n",
       "    </tr>\n",
       "    <tr>\n",
       "      <th>croydon</th>\n",
       "      <td>146393.979933</td>\n",
       "    </tr>\n",
       "    <tr>\n",
       "      <th>barnet</th>\n",
       "      <td>134094.983278</td>\n",
       "    </tr>\n",
       "    <tr>\n",
       "      <th>lambeth</th>\n",
       "      <td>118347.491639</td>\n",
       "    </tr>\n",
       "  </tbody>\n",
       "</table>\n",
       "</div>"
      ],
      "text/plain": [
       "              houses_sold\n",
       "area                     \n",
       "wandsworth  164419.063545\n",
       "bromley     149012.709030\n",
       "croydon     146393.979933\n",
       "barnet      134094.983278\n",
       "lambeth     118347.491639"
      ]
     },
     "execution_count": 55,
     "metadata": {},
     "output_type": "execute_result"
    }
   ],
   "source": [
    "# Boroughs with the highest number of sold houses\n",
    "\n",
    "lnd_b_houses = lnd.groupby('area')['houses_sold'].sum()\n",
    "lnd_top5_h = lnd_b_houses.sort_values(ascending = False).to_frame()\n",
    "lnd_top5_h.head(5)"
   ]
  },
  {
   "cell_type": "code",
   "execution_count": 56,
   "id": "0f83d744",
   "metadata": {},
   "outputs": [
    {
     "data": {
      "image/png": "[encoded data removed]",
      "text/plain": [
       "<Figure size 648x360 with 1 Axes>"
      ]
     },
     "metadata": {},
     "output_type": "display_data"
    }
   ],
   "source": [
    "lnd_top5_h.head(5).sort_values(by = 'houses_sold', ascending = True).plot( \n",
    "    kind = 'barh', figsize = (9, 5), color = 'Yellow', legend = False)\n",
    "\n",
    "plt.title('Top 5 London Boroughs with most Houses Sold', size = 16, y = 1.05)\n",
    "plt.ylabel('London Boroughs', size = 16)\n",
    "plt.xlabel('Houses Sold', size = 16)\n",
    "plt.yticks(size = 16 - 3)\n",
    "plt.xticks([0, 100_000, 200_000, 300_000], size = 16 - 3);"
   ]
  },
  {
   "cell_type": "markdown",
   "id": "99b661f3",
   "metadata": {},
   "source": [
    "## Conclusion "
   ]
  },
  {
   "cell_type": "markdown",
   "id": "166f019b",
   "metadata": {},
   "source": [
    "1) The average price of housings in London boroughs is higher than of other regions of England. The average price went down during the 'Great Recession' of 2009 and been constantly low.\n",
    "\n",
    "2) The highest average price regions are Kensighton, Camden, and Westiminister.\n",
    "\n",
    "3) The number of houses sold dropped during the 2009 recession and there was a sudden spike just before the new tax bill in 2016.\n",
    "\n",
    "4) The top london boroughs where the most houses were sold are Wandsworth, Bromley, and Croydon."
   ]
  }
 ],
 "metadata": {
  "kernelspec": {
   "display_name": "Python 3",
   "language": "python",
   "name": "python3"
  },
  "language_info": {
   "codemirror_mode": {
    "name": "ipython",
    "version": 3
   },
   "file_extension": ".py",
   "mimetype": "text/x-python",
   "name": "python",
   "nbconvert_exporter": "python",
   "pygments_lexer": "ipython3",
   "version": "3.8.8"
  }
 },
 "nbformat": 4,
 "nbformat_minor": 5
}
